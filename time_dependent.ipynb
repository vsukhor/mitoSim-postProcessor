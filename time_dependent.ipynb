{
 "cells": [
  {
   "cell_type": "markdown",
   "metadata": {},
   "source": [
    "### Loading and basic analysis of the simulation log records\n",
    "\n",
    "Functionality is similar to the accompanying python [script](./src/time_dependent.py).  \n",
    "Please feel free to adjust them to your needs."
   ]
  },
  {
   "cell_type": "code",
   "execution_count": null,
   "metadata": {},
   "outputs": [],
   "source": [
    "# uncomment to plot into separate windows\n",
    "#%matplotlib   \n",
    "\n",
    "from src.records import Records\n",
    "from src.time_dependent import import_log_files\n",
    "from src.time_dependent import plot_timedata"
   ]
  },
  {
   "cell_type": "markdown",
   "metadata": {},
   "source": [
    "Set the directory to the log files and the min, max Monte Carlo run indexes:"
   ]
  },
  {
   "cell_type": "code",
   "execution_count": null,
   "metadata": {},
   "outputs": [],
   "source": [
    "path = './data/'\n",
    "run_first = 28\n",
    "run_last = 29"
   ]
  },
  {
   "cell_type": "markdown",
   "metadata": {},
   "source": [
    "Import data from the files:"
   ]
  },
  {
   "cell_type": "code",
   "execution_count": null,
   "metadata": {
    "scrolled": true
   },
   "outputs": [],
   "source": [
    "recs, pat = import_log_files(path, [run_first, run_last])"
   ]
  },
  {
   "cell_type": "markdown",
   "metadata": {},
   "source": [
    "The log file is a record of time-dependent parameters. \n",
    "Thsese evolve in real time measured in seconds. \n",
    "The correct time values are ensured by application of the Gillespie algorithm. "
   ]
  },
  {
   "cell_type": "code",
   "execution_count": null,
   "metadata": {},
   "outputs": [],
   "source": [
    "# Acceptable units: 'd', 'hours', 'min', 's', 'secs'\n",
    "Records.scale_time_to(recs, 'min')"
   ]
  },
  {
   "cell_type": "markdown",
   "metadata": {},
   "source": [
    "Prepare some vatiables for common use:"
   ]
  },
  {
   "cell_type": "code",
   "execution_count": null,
   "metadata": {},
   "outputs": [],
   "source": [
    "# extract time for convenience:\n",
    "t = [r.t for r in recs]\n",
    "\n",
    "# set line lables to reflect run indexes:\n",
    "labels = [f'run {i}' for i in range(len(recs))]"
   ]
  },
  {
   "cell_type": "markdown",
   "metadata": {},
   "source": [
    "System free energy is represented by the reaction scores:"
   ]
  },
  {
   "cell_type": "code",
   "execution_count": null,
   "metadata": {
    "scrolled": false
   },
   "outputs": [],
   "source": [
    "vv = [[sc['val'] for sc in r.score.values()] for r in recs]\n",
    "scores_total = [[sum(u) for u in zip(*v)] for v in vv]\n",
    "\n",
    "plot_timedata('total scores', \n",
    "              t, scores_total, \n",
    "              n=len(recs), labels=labels, figsize=(12, 6))"
   ]
  },
  {
   "cell_type": "markdown",
   "metadata": {},
   "source": [
    "Plot evolution of the the number of nodes, by node degree (1 to 3):"
   ]
  },
  {
   "cell_type": "code",
   "execution_count": null,
   "metadata": {
    "scrolled": false
   },
   "outputs": [],
   "source": [
    "Records.plot_nodes(recs, pat, figsize=(12, 6))"
   ]
  },
  {
   "cell_type": "markdown",
   "metadata": {},
   "source": [
    "... and the number of segments, by segment type. The type is specified by degrees of the nodes:\n",
    "the reaction permit four segment tpes: 11, 13, 33 and 22 (the latter designetes a disconnected cycle) "
   ]
  },
  {
   "cell_type": "code",
   "execution_count": null,
   "metadata": {
    "scrolled": false
   },
   "outputs": [],
   "source": [
    "Records.plot_segments_by_type(recs, pat, figsize=(12, 6))"
   ]
  },
  {
   "cell_type": "markdown",
   "metadata": {},
   "source": [
    "Here is the total number of segments:"
   ]
  },
  {
   "cell_type": "code",
   "execution_count": null,
   "metadata": {},
   "outputs": [],
   "source": [
    "plot_timedata('total number of segments', \n",
    "              t, [r.mtn for r in recs], \n",
    "              n=len(recs), labels=labels, figsize=(12, 6))"
   ]
  },
  {
   "cell_type": "markdown",
   "metadata": {},
   "source": [
    "and the number of segment clusters (disconnected graph components):"
   ]
  },
  {
   "cell_type": "code",
   "execution_count": null,
   "metadata": {},
   "outputs": [],
   "source": [
    "plot_timedata('number of clusters', \n",
    "              t, [r.cln for r in recs], \n",
    "              n=len(recs), labels=labels, figsize=(12, 6))"
   ]
  },
  {
   "cell_type": "code",
   "execution_count": null,
   "metadata": {},
   "outputs": [],
   "source": []
  }
 ],
 "metadata": {
  "kernelspec": {
   "display_name": "Python 3",
   "language": "python",
   "name": "python3"
  },
  "language_info": {
   "codemirror_mode": {
    "name": "ipython",
    "version": 3
   },
   "file_extension": ".py",
   "mimetype": "text/x-python",
   "name": "python",
   "nbconvert_exporter": "python",
   "pygments_lexer": "ipython3",
   "version": "3.9.4"
  }
 },
 "nbformat": 4,
 "nbformat_minor": 2
}
